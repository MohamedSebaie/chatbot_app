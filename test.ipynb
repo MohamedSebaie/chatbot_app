{
 "cells": [
  {
   "cell_type": "code",
   "execution_count": 9,
   "metadata": {},
   "outputs": [
    {
     "name": "stdout",
     "output_type": "stream",
     "text": [
      "According to the provided document context, Salma is an AI Engineer specializing in Computer Vision. She is driven, highly motivated, and results-oriented, with a passion for leveraging her abilities towards a career in Computer Vision and AI.\n"
     ]
    }
   ],
   "source": [
    "from openai import OpenAI\n",
    "client = OpenAI(\n",
    "    base_url=\"http://localhost:8000/v1\",\n",
    "    api_key=openai_api_key,\n",
    ")\n",
    "\n",
    "completion = client.chat.completions.create(\n",
    "  model=\"NousResearch/Meta-Llama-3-8B-Instruct\",\n",
    "  messages= [{'role': 'system', 'content': 'You are a helpful AI assistant. Answer questions based on the provided document context.\\n       If the answer cannot be found in the context, say so. Always be truthful and accurate.'}, {'role': 'system', 'content': 'Context from documents:\\n\\nDocument: Salma_Mohamed_Resume.pdf, Page: 1\\nSALMA MOHAMED ELSAID ABDELKARIM\\nSUMMARY\\nDriven, highly motivated and results-oriented AI Engineer specializing in Computer Vision,\\nseeking to leverage my abilities and passion towards a career in Computer Vision and AI. I\\napproach every challenge with unwavering determination, eagerly embracing new\\nmethodologies to stay at the forefront of advancements in AI.\\nCERTIFICATES\\nEDUCATIONSupervised Machine Learning: Regression and Classification\\nPROJECTSNeural Networks and Deep Learning\\nBachelor of Science in Computer Science\\nEl Shorouk Academy, El Shorouk City, Cairo Oct 2020 - Aug 2024Cairo, Egypt      Artificial Intelligence Engineer\\nLed the development of a high-precision object detection system using the state-of-the-art\\ndeep learning technique YOLOv8 and FastAPI. This project achieved exceptional results in\\ndetecting car plates and extracting Arabic characters. The system returns a JSON response\\ncontaining details like bounding boxes, class IDs, and recognized characters with confidence'}, {'role': 'user', 'content': 'tell me about Salma'}]\n",
    ")\n",
    "\n",
    "print(completion.choices[0].message.content)"
   ]
  },
  {
   "cell_type": "code",
   "execution_count": 3,
   "metadata": {},
   "outputs": [
    {
     "name": "stdout",
     "output_type": "stream",
     "text": [
      "<Page:1>\n",
      "<Page:2>\n"
     ]
    }
   ],
   "source": [
    "import pdfplumber\n",
    "with pdfplumber.open(\"data/uploads/Mohamed_Sebaie_CV_Aug2.pdf\") as pdf:\n",
    "   text = \"\"\n",
    "   for page in pdf.pages:\n",
    "       print(page)\n",
    "       text += page.extract_text()"
   ]
  },
  {
   "cell_type": "code",
   "execution_count": 2,
   "metadata": {},
   "outputs": [
    {
     "data": {
      "text/plain": [
       "\"Mohamed Sebaie\\nwww.linkedin.com/in/MohamedSebaie\\nhttps://mohamedsebaie.github.io/\\nhttps://www.upwork.com/freelancers/~01e657ba3674d288c5\\n01 October 1994 20 1010805540\\nCairo, Egypt mohamedsebaie1@gmail.com\\nMilitary Status: Exempted github.com/MohamedSebaie\\nSUMMARY\\nA passionate and self-driven Machine learning Engineer with hands-on experience in machine learning and deep\\nlearning contributed to various projects in the fields of Computer Vision, NLP, and Data Science and aiming to\\npursue a career in this field and push my skills even further by joining a reputable and dynamic corporation to\\nbuild a career, grow with, take on new challenges and working in a professional team.\\nCAREER\\nSENIOR ARTIFICIAL INTELLIGENC ENGINEER\\nAUGUST /2023 - PRESENT\\nMaster-Works (AI Department) HYBRID\\nCOMPUTER VISION RESEARCHER (DEEP FAKE DETECTION) JUNE/2023 - PRESENT\\nWAKEB S.A. (R&D Department) REMOTE/PART TIME\\nPRESALES ENGINEER (ARTIFICIAL INTELLIGENCE DEPARTMENT) JUNE/2022 - MAY/2023\\nSENIOR COMPUTER VISION ENGINEER JUNE/2023 - DECEMBER /2023\\negabi Solutions\\nCOMPUTER VISION FREELANCER MAY/2022 - PRESENT\\nThe AI Matters · Freelance (Upwork)\\nMACHINE LEARNING ENGINEER\\nDEC/2021 - PRESENT\\nUpwork-Freelance (Job Success 100%)\\nTOP RATED Badge (the top 10% of talent on Upwork)\\nBIDDING AND TENDER ENGINEER APRIL/2021 - APRIL/2022\\nBD ENGINEER JULY/2019 - APRIL/2021\\nPIONEER Petroleum Services\\nINTERNSHIPS COMPUTER VISION INTERN DEC/2021 - FEB/2022\\nTECHNOCOLABS INDIA\\nMACHINE LEARNING INTERN\\nORANGE INNOVATION EGYPT NOV/2021 - JAN/2022\\nPost Graduate: The Artificial Intelligence Professional (AI-Pro) Program\\nINFORMATION TECHNOLOGY INSTITUTE (ITI)\\nEDUCATION FRENCH GRADUATE SCHOOL OF COMPUTER SCIENCE AND ADVANCED TECHNOLOGIES (EPITA).\\nAPRIL/2021 - JANUARY/2022\\nIt is a 9-month post-graduate professional training program in Machine Learning and Artificial Intelligence.\\nMaster of Science : Data Science and Artifical Inteligence\\nM.Sc. in Al & Data Science at the FGSSR - Faculty of Graduate Studies for\\nStatistical Research - at Cairo University. MARCH/2024\\nBachelor of Science : Suez University (Petroleum Engineering)\\nGraduated with a 3.26 (Max 4.00) GPA and A+ in Graduation Project.\\nGraduated in the Top 10% of Class. OCTOBER/2012 - JULY/2017\\nHigh School Certificate (Science) : Mathematics\\nNOOR EL-SALAM PRIVATE SCHOOL\\nOCTOBER/2010 - JULY/2012\\nGraduated with a 99.65% Grade and was Ranked 2nd in my class.\\nAwarded The Ideal Student by The Minister of Education.\\nPUBLICATIONS Hybrid Time Series Model for Advanced Predictive Analysis in COVID-19 Vaccination. PAPERHCIP-Cloud Service Solutions Architect.\\nAWS Certified Data Analytics – Specialty. Badge_Link\\nCOURSES\\nAWS Certified Machine Learning Specialty. Badge_Link\\nCloud Foundations and Machine Learning Foundations on AWS Academy.\\nDeep Learning Specialization and Machine Learning Course by Andrew Ng on Coursera.\\nData Analysis Professional, Advanced Nanodegree Programs, and Data Analysis Course on Udacity.\\nData Scientist, Statistics Fundamentals, and Python Tracks with 6 Projects on DataCamp.\\nDatabase Fundamentals, Java Development SE, and Introduction to Deep Learning on MaharaTech.\\nData Science, Machine Learning, and Deep Learning BootCamp with Epsilon AI Institute.\\nPython for Everybody Specialization on Coursera.\\nArtificial Intelligence Projects :\\n1.Video Analytics RFPs for Baseer AI Platform (Master-Works): I have worked on many Tenders and RFPs in Saudi Arabia for how Baseer AI\\nPlatform can be used for visual pollution detection, Airports, oil and gas companies, etc.\\nPROJECTS 2.Large Language Models Projects: I have worked on many llm projects of making chatbots using GPTs, Llama, etc and integrate them with Database\\nor chat with PDFs\\n3.Video Analytics Tender (Egyptian Governmental Project): the tender scope was car and person detection and tracking besides the license plate\\nrecognition from CCTV cameras and many other features. I have participated in the PoC of this project too.\\n4.Ministry of Education Tender (Egyptian Governmental Project): this tender was for an AI platform for all Egyptian universities. we worked aligned\\nwith AWS and Huawei Cloud.\\n5.AI Lab Tender (Egyptian Governmental Project): this tender is confidential but mainly about establishing an AI lab with the hardware and software\\nresources required.\\n6.Shipping Containers Tender (Egyptian Governmental Project): this tender was for detecting, tracking, and counting shipping containers.\\n7.Tanzania OSBP (Global Tender): I was responsible for the license plate recognition and the whole project software.\\n8.Turath Masr (Egyptian Governmental Project): Digitization of all magazines and newspapers using AI for layout detection and OCR.\\n9.OCR Projects for different clients using Azure or AWS or our Custom OCR.\\nIt should be noted that I led most of these tender's PoCs and deployed it as Docker containers on AWS, Azure, and Huawei Cloud\\nEnd to End Projects, i have done:\\n1.Deep Fake Detection in Image and Video (Real-time)\\n2.Fight Detection from CCTV Cameras (Real-time)\\n3.Car Crash Detection from CCTV Cameras (Real-time)\\n4.Distracted Drivers Detection deployed as an Android app\\n5.Anomaly Detection from Videos Using Swin Transformer\\n6.Sign Language Detection Using Swin Transformer\\n7.Arabic Speech to Text and NER Projects besides many projects in NLP using Transformers and LLM\\n8.Arabic Dialect Identification NLP Task using AraBert\\nDifferent Projects on Upwork Like Drown and Swimming Detection, PotHoles Detection from Roads, Gender, Race, Age Detection,\\nBottles drop or Hold Detection, Earthquake Prediction, Blood Cells Classification, COVID Detection from X-ray Chest Images, Face\\nRecognition, Amharic NER NLP, Text Classification with different NLP Algorithms, POS Tagging and NLP Tutor for 45 hours.\\nFor the Below, Projects check the GitHub Repositories Link: GitHub_Link\\nDeep Learning Projects like Mask Detectors and Solar Radiation Prediction.\\nDeploy Many Projects by Flask and Streamlit on Heroku (Cloud Application Platform).\\nDataAnalysis for Wuzzuf DataSet by Java, SpringBoot, WebServices, and TestClient.\\nScrape websites like (Fluidex_Spain, Weather, Books, Exchange Rates, and Hostinger Webmail). and News Websites.\\nML Projects like eCommerce Purchase, Loan Approval Prediction, Rainfall Prediction in Australia, and Solar Radiation Prediction.\\nExplore US Bikeshare Data, Wrangle and Analyze Data (WeRateDogs Twitter Account), and\\nInvestigate (Medical Appointment No Shows) Data on UDACITY.\\nTECHNICAL Programming Technologies: C++, Python, Java SE, SQL, and NoSQL.\\nSKILLS Conceptual Knowledge: LLM, Data Science, Machine Learning, Computer Vision, NLP, OOP, Data Structure & Algorithms.\\nTools: Tableau, PowerBI, MYSQL, PostgreSQL, MongoDB, Cassandra, Redis, Neo4j, Orange, TalendStudio, Docker.\\nDeepLearning and Its frameworks like PyTorch, TensorFlow, Keras, and Caffe.\\nDeployment of ML and DL Models by Flask and StreamLite(or Docker Image) on Heroku Platform, Azure, Huawei, and AWS.\\nWeb Scraping by Beautiful Soup.\\nData Preprocessing through Feature Engineering and Extraction and Feature Transformations.\\nMachine Learning and its libraries Scikit-Learn and Auto Sklearn.\\nArabic (Native)\\nLANGUAGE\\nEnglish (Professional)\\nFrench (Limited)\\nBoxing.\\nINTEREST\\nReading in New Technologies.\\nPlaying Chess, Bowling and Tennis Table and Watching Movies.\""
      ]
     },
     "execution_count": 2,
     "metadata": {},
     "output_type": "execute_result"
    }
   ],
   "source": [
    "text"
   ]
  },
  {
   "cell_type": "code",
   "execution_count": null,
   "metadata": {},
   "outputs": [],
   "source": []
  }
 ],
 "metadata": {
  "kernelspec": {
   "display_name": "Python 3 (ipykernel)",
   "language": "python",
   "name": "python3"
  },
  "language_info": {
   "codemirror_mode": {
    "name": "ipython",
    "version": 3
   },
   "file_extension": ".py",
   "mimetype": "text/x-python",
   "name": "python",
   "nbconvert_exporter": "python",
   "pygments_lexer": "ipython3",
   "version": "3.10.15"
  }
 },
 "nbformat": 4,
 "nbformat_minor": 4
}
